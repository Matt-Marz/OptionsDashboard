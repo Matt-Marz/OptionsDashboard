{
 "cells": [
  {
   "cell_type": "code",
   "execution_count": 1,
   "metadata": {},
   "outputs": [],
   "source": [
    "import QueryOptionsDB as qdb\n",
    "import json\n",
    "import pandas as pd\n",
    "import datetime as dte"
   ]
  },
  {
   "cell_type": "code",
   "execution_count": 2,
   "metadata": {},
   "outputs": [
    {
     "name": "stdout",
     "output_type": "stream",
     "text": [
      "Unexpected irregularity from yahoo data for ^VIX at 2023-05-02 14:31:35.459000\n",
      "\tError time data 'VIX230517' does not match format '%y%m%d' (match)\n",
      "\t Dropping entry for ^VIX at 2023-05-02 14:31:35.459000\n",
      "Unexpected irregularity from yahoo data for ^VIX at 2023-05-02 17:30:02.624000\n",
      "\tError time data 'VIX230517' does not match format '%y%m%d' (match)\n",
      "\t Dropping entry for ^VIX at 2023-05-02 17:30:02.624000\n",
      "Unexpected irregularity from yahoo data for ^VIX at 2023-05-03 14:31:06.901000\n",
      "\tError time data 'VIX230517' does not match format '%y%m%d' (match)\n",
      "\t Dropping entry for ^VIX at 2023-05-03 14:31:06.901000\n",
      "Unexpected irregularity from yahoo data for ^VIX at 2023-05-04 13:52:41.221000\n",
      "\tError time data 'VIX230517' does not match format '%y%m%d' (match)\n",
      "\t Dropping entry for ^VIX at 2023-05-04 13:52:41.221000\n",
      "\tError Invalid file path or buffer object type: <class 'pandas.core.frame.DataFrame'>\n",
      "Unexpected irregularity from yahoo data for ^SPX at 2023-05-02 17:07:47.509000\n",
      "\tError time data 'SPX230519' does not match format '%y%m%d' (match)\n",
      "\t Dropping entry for ^SPX at 2023-05-02 17:07:47.509000\n",
      "Unexpected irregularity from yahoo data for ^SPX at 2023-05-03 14:08:42.025000\n",
      "\tError time data 'SPX230519' does not match format '%y%m%d' (match)\n",
      "\t Dropping entry for ^SPX at 2023-05-03 14:08:42.025000\n",
      "Unexpected irregularity from yahoo data for ^SPX at 2023-05-03 17:07:26.645000\n",
      "\tError time data 'SPX230519' does not match format '%y%m%d' (match)\n",
      "\t Dropping entry for ^SPX at 2023-05-03 17:07:26.645000\n",
      "\tError Invalid file path or buffer object type: <class 'pandas.core.frame.DataFrame'>\n"
     ]
    }
   ],
   "source": [
    "tickers = qdb.getTickers(dte.datetime.today() - dte.timedelta(days=2),dte.datetime.today())\n",
    "maxMoney = pd.DataFrame()\n",
    "for ticker in tickers:\n",
    "    try:\n",
    "        [Price,Calls,Puts] = qdb.queryDB(ticker, dte.datetime.today() - dte.timedelta(days=2), dte.datetime.today())\n",
    "        if Price:\n",
    "            # print(ticker)\n",
    "            expiries = list(Calls.keys())\n",
    "            expiries.sort()\n",
    "            callDF = pd.read_json(Calls[expiries[-1]], orient='split')\n",
    "            putDF = pd.read_json(Puts[expiries[-1]], orient='split')\n",
    "            callDF = callDF[callDF['Money'] == callDF['Money'].max()]\n",
    "            putDF = putDF[putDF['Money'] == putDF['Money'].max()]\n",
    "            callDF['Ticker'] = putDF['Ticker'] = ticker\n",
    "            callDF['Last Update'] = putDF['Last Update'] = expiries[-1]\n",
    "            callDF['Stock Price at Query'] = putDF['Stock Price at Query'] = Price[expiries[-1]]\n",
    "            callDF['Contract'] = 'Call'\n",
    "            putDF['Contract'] = 'Put'\n",
    "            maxMoney = pd.concat([maxMoney,callDF,putDF])\n",
    "\n",
    "    except Exception as e:\n",
    "        print(\"\\tError %s\" % e)\n",
    "        # print(\"\\tBad data found for ticker %s\" %ticker)   \n",
    "\n"
   ]
  },
  {
   "cell_type": "code",
   "execution_count": 70,
   "metadata": {},
   "outputs": [
    {
     "data": {
      "application/vnd.plotly.v1+json": {
       "config": {
        "plotlyServerURL": "https://plot.ly"
       },
       "data": [
        {
         "branchvalues": "total",
         "customdata": [
          [
           41
          ],
          [
           622
          ],
          [
           622
          ],
          [
           13
          ],
          [
           41
          ],
          [
           41
          ],
          [
           41
          ],
          [
           958
          ],
          [
           13
          ],
          [
           41
          ],
          [
           258
          ],
          [
           258
          ],
          [
           132
          ],
          [
           132
          ],
          [
           258
          ],
          [
           41
          ],
          [
           13
          ],
          [
           295.0348870099069
          ],
          [
           258
          ],
          [
           258
          ],
          [
           622
          ],
          [
           13
          ],
          [
           41
          ],
          [
           41
          ],
          [
           75.0901234766655
          ],
          [
           132
          ],
          [
           383.1636374395895
          ],
          [
           249.64743989167076
          ]
         ],
         "domain": {
          "x": [
           0,
           1
          ],
          "y": [
           0,
           1
          ]
         },
         "hovertemplate": "labels=%{label}<br>Money=%{value}<br>parent=%{parent}<br>id=%{id}<br>daysToExpiry=%{color}<extra></extra>",
         "ids": [
          "Largest Open Contracts By Value/AAPL/Call",
          "Largest Open Contracts By Value/AMZN/Call",
          "Largest Open Contracts By Value/GOOGL/Call",
          "Largest Open Contracts By Value/META/Call",
          "Largest Open Contracts By Value/MSFT/Call",
          "Largest Open Contracts By Value/NVDA/Call",
          "Largest Open Contracts By Value/QQQ/Call",
          "Largest Open Contracts By Value/TSLA/Call",
          "Largest Open Contracts By Value/AMC/Put",
          "Largest Open Contracts By Value/AMZN/Put",
          "Largest Open Contracts By Value/BAC/Put",
          "Largest Open Contracts By Value/GOOG/Put",
          "Largest Open Contracts By Value/QQQ/Put",
          "Largest Open Contracts By Value/SPY/Put",
          "Largest Open Contracts By Value/TSLA/Put",
          "Largest Open Contracts By Value/AAPL",
          "Largest Open Contracts By Value/AMC",
          "Largest Open Contracts By Value/AMZN",
          "Largest Open Contracts By Value/BAC",
          "Largest Open Contracts By Value/GOOG",
          "Largest Open Contracts By Value/GOOGL",
          "Largest Open Contracts By Value/META",
          "Largest Open Contracts By Value/MSFT",
          "Largest Open Contracts By Value/NVDA",
          "Largest Open Contracts By Value/QQQ",
          "Largest Open Contracts By Value/SPY",
          "Largest Open Contracts By Value/TSLA",
          "Largest Open Contracts By Value"
         ],
         "labels": [
          "Call",
          "Call",
          "Call",
          "Call",
          "Call",
          "Call",
          "Call",
          "Call",
          "Put",
          "Put",
          "Put",
          "Put",
          "Put",
          "Put",
          "Put",
          "AAPL",
          "AMC",
          "AMZN",
          "BAC",
          "GOOG",
          "GOOGL",
          "META",
          "MSFT",
          "NVDA",
          "QQQ",
          "SPY",
          "TSLA",
          "Largest Open Contracts By Value"
         ],
         "marker": {
          "coloraxis": "coloraxis",
          "colors": [
           41,
           622,
           622,
           13,
           41,
           41,
           41,
           958,
           13,
           41,
           258,
           258,
           132,
           132,
           258,
           41,
           13,
           295.0348870099069,
           258,
           258,
           622,
           13,
           41,
           41,
           75.0901234766655,
           132,
           383.1636374395895,
           249.64743989167076
          ]
         },
         "name": "",
         "parents": [
          "Largest Open Contracts By Value/AAPL",
          "Largest Open Contracts By Value/AMZN",
          "Largest Open Contracts By Value/GOOGL",
          "Largest Open Contracts By Value/META",
          "Largest Open Contracts By Value/MSFT",
          "Largest Open Contracts By Value/NVDA",
          "Largest Open Contracts By Value/QQQ",
          "Largest Open Contracts By Value/TSLA",
          "Largest Open Contracts By Value/AMC",
          "Largest Open Contracts By Value/AMZN",
          "Largest Open Contracts By Value/BAC",
          "Largest Open Contracts By Value/GOOG",
          "Largest Open Contracts By Value/QQQ",
          "Largest Open Contracts By Value/SPY",
          "Largest Open Contracts By Value/TSLA",
          "Largest Open Contracts By Value",
          "Largest Open Contracts By Value",
          "Largest Open Contracts By Value",
          "Largest Open Contracts By Value",
          "Largest Open Contracts By Value",
          "Largest Open Contracts By Value",
          "Largest Open Contracts By Value",
          "Largest Open Contracts By Value",
          "Largest Open Contracts By Value",
          "Largest Open Contracts By Value",
          "Largest Open Contracts By Value",
          "Largest Open Contracts By Value",
          ""
         ],
         "type": "treemap",
         "values": [
          255065400,
          116268600,
          62993700,
          268483600,
          161550000,
          101860500,
          245895000,
          318044175,
          79145792,
          149647855,
          66779715,
          210054311.99999997,
          147295890,
          138095352,
          1460674685.0000002,
          255065400,
          79145792,
          265916455,
          66779715,
          210054311.99999997,
          62993700,
          268483600,
          161550000,
          101860500,
          393190890,
          138095352,
          1778718860.0000002,
          3781854576
         ]
        }
       ],
       "layout": {
        "coloraxis": {
         "cmax": 900,
         "cmin": 0,
         "colorbar": {
          "title": {
           "text": "daysToExpiry"
          }
         },
         "colorscale": [
          [
           0,
           "rgb(234, 252, 253)"
          ],
          [
           0.09090909090909091,
           "rgb(192, 229, 232)"
          ],
          [
           0.18181818181818182,
           "rgb(149, 207, 216)"
          ],
          [
           0.2727272727272727,
           "rgb(114, 184, 205)"
          ],
          [
           0.36363636363636365,
           "rgb(89, 159, 196)"
          ],
          [
           0.45454545454545453,
           "rgb(72, 134, 187)"
          ],
          [
           0.5454545454545454,
           "rgb(62, 109, 178)"
          ],
          [
           0.6363636363636364,
           "rgb(62, 83, 160)"
          ],
          [
           0.7272727272727273,
           "rgb(58, 60, 125)"
          ],
          [
           0.8181818181818182,
           "rgb(44, 42, 87)"
          ],
          [
           0.9090909090909091,
           "rgb(25, 25, 51)"
          ],
          [
           1,
           "rgb(3, 5, 18)"
          ]
         ]
        },
        "legend": {
         "tracegroupgap": 0
        },
        "margin": {
         "t": 60
        },
        "template": {
         "data": {
          "bar": [
           {
            "error_x": {
             "color": "#2a3f5f"
            },
            "error_y": {
             "color": "#2a3f5f"
            },
            "marker": {
             "line": {
              "color": "#E5ECF6",
              "width": 0.5
             }
            },
            "type": "bar"
           }
          ],
          "barpolar": [
           {
            "marker": {
             "line": {
              "color": "#E5ECF6",
              "width": 0.5
             }
            },
            "type": "barpolar"
           }
          ],
          "carpet": [
           {
            "aaxis": {
             "endlinecolor": "#2a3f5f",
             "gridcolor": "white",
             "linecolor": "white",
             "minorgridcolor": "white",
             "startlinecolor": "#2a3f5f"
            },
            "baxis": {
             "endlinecolor": "#2a3f5f",
             "gridcolor": "white",
             "linecolor": "white",
             "minorgridcolor": "white",
             "startlinecolor": "#2a3f5f"
            },
            "type": "carpet"
           }
          ],
          "choropleth": [
           {
            "colorbar": {
             "outlinewidth": 0,
             "ticks": ""
            },
            "type": "choropleth"
           }
          ],
          "contour": [
           {
            "colorbar": {
             "outlinewidth": 0,
             "ticks": ""
            },
            "colorscale": [
             [
              0,
              "#0d0887"
             ],
             [
              0.1111111111111111,
              "#46039f"
             ],
             [
              0.2222222222222222,
              "#7201a8"
             ],
             [
              0.3333333333333333,
              "#9c179e"
             ],
             [
              0.4444444444444444,
              "#bd3786"
             ],
             [
              0.5555555555555556,
              "#d8576b"
             ],
             [
              0.6666666666666666,
              "#ed7953"
             ],
             [
              0.7777777777777778,
              "#fb9f3a"
             ],
             [
              0.8888888888888888,
              "#fdca26"
             ],
             [
              1,
              "#f0f921"
             ]
            ],
            "type": "contour"
           }
          ],
          "contourcarpet": [
           {
            "colorbar": {
             "outlinewidth": 0,
             "ticks": ""
            },
            "type": "contourcarpet"
           }
          ],
          "heatmap": [
           {
            "colorbar": {
             "outlinewidth": 0,
             "ticks": ""
            },
            "colorscale": [
             [
              0,
              "#0d0887"
             ],
             [
              0.1111111111111111,
              "#46039f"
             ],
             [
              0.2222222222222222,
              "#7201a8"
             ],
             [
              0.3333333333333333,
              "#9c179e"
             ],
             [
              0.4444444444444444,
              "#bd3786"
             ],
             [
              0.5555555555555556,
              "#d8576b"
             ],
             [
              0.6666666666666666,
              "#ed7953"
             ],
             [
              0.7777777777777778,
              "#fb9f3a"
             ],
             [
              0.8888888888888888,
              "#fdca26"
             ],
             [
              1,
              "#f0f921"
             ]
            ],
            "type": "heatmap"
           }
          ],
          "heatmapgl": [
           {
            "colorbar": {
             "outlinewidth": 0,
             "ticks": ""
            },
            "colorscale": [
             [
              0,
              "#0d0887"
             ],
             [
              0.1111111111111111,
              "#46039f"
             ],
             [
              0.2222222222222222,
              "#7201a8"
             ],
             [
              0.3333333333333333,
              "#9c179e"
             ],
             [
              0.4444444444444444,
              "#bd3786"
             ],
             [
              0.5555555555555556,
              "#d8576b"
             ],
             [
              0.6666666666666666,
              "#ed7953"
             ],
             [
              0.7777777777777778,
              "#fb9f3a"
             ],
             [
              0.8888888888888888,
              "#fdca26"
             ],
             [
              1,
              "#f0f921"
             ]
            ],
            "type": "heatmapgl"
           }
          ],
          "histogram": [
           {
            "marker": {
             "colorbar": {
              "outlinewidth": 0,
              "ticks": ""
             }
            },
            "type": "histogram"
           }
          ],
          "histogram2d": [
           {
            "colorbar": {
             "outlinewidth": 0,
             "ticks": ""
            },
            "colorscale": [
             [
              0,
              "#0d0887"
             ],
             [
              0.1111111111111111,
              "#46039f"
             ],
             [
              0.2222222222222222,
              "#7201a8"
             ],
             [
              0.3333333333333333,
              "#9c179e"
             ],
             [
              0.4444444444444444,
              "#bd3786"
             ],
             [
              0.5555555555555556,
              "#d8576b"
             ],
             [
              0.6666666666666666,
              "#ed7953"
             ],
             [
              0.7777777777777778,
              "#fb9f3a"
             ],
             [
              0.8888888888888888,
              "#fdca26"
             ],
             [
              1,
              "#f0f921"
             ]
            ],
            "type": "histogram2d"
           }
          ],
          "histogram2dcontour": [
           {
            "colorbar": {
             "outlinewidth": 0,
             "ticks": ""
            },
            "colorscale": [
             [
              0,
              "#0d0887"
             ],
             [
              0.1111111111111111,
              "#46039f"
             ],
             [
              0.2222222222222222,
              "#7201a8"
             ],
             [
              0.3333333333333333,
              "#9c179e"
             ],
             [
              0.4444444444444444,
              "#bd3786"
             ],
             [
              0.5555555555555556,
              "#d8576b"
             ],
             [
              0.6666666666666666,
              "#ed7953"
             ],
             [
              0.7777777777777778,
              "#fb9f3a"
             ],
             [
              0.8888888888888888,
              "#fdca26"
             ],
             [
              1,
              "#f0f921"
             ]
            ],
            "type": "histogram2dcontour"
           }
          ],
          "mesh3d": [
           {
            "colorbar": {
             "outlinewidth": 0,
             "ticks": ""
            },
            "type": "mesh3d"
           }
          ],
          "parcoords": [
           {
            "line": {
             "colorbar": {
              "outlinewidth": 0,
              "ticks": ""
             }
            },
            "type": "parcoords"
           }
          ],
          "pie": [
           {
            "automargin": true,
            "type": "pie"
           }
          ],
          "scatter": [
           {
            "marker": {
             "colorbar": {
              "outlinewidth": 0,
              "ticks": ""
             }
            },
            "type": "scatter"
           }
          ],
          "scatter3d": [
           {
            "line": {
             "colorbar": {
              "outlinewidth": 0,
              "ticks": ""
             }
            },
            "marker": {
             "colorbar": {
              "outlinewidth": 0,
              "ticks": ""
             }
            },
            "type": "scatter3d"
           }
          ],
          "scattercarpet": [
           {
            "marker": {
             "colorbar": {
              "outlinewidth": 0,
              "ticks": ""
             }
            },
            "type": "scattercarpet"
           }
          ],
          "scattergeo": [
           {
            "marker": {
             "colorbar": {
              "outlinewidth": 0,
              "ticks": ""
             }
            },
            "type": "scattergeo"
           }
          ],
          "scattergl": [
           {
            "marker": {
             "colorbar": {
              "outlinewidth": 0,
              "ticks": ""
             }
            },
            "type": "scattergl"
           }
          ],
          "scattermapbox": [
           {
            "marker": {
             "colorbar": {
              "outlinewidth": 0,
              "ticks": ""
             }
            },
            "type": "scattermapbox"
           }
          ],
          "scatterpolar": [
           {
            "marker": {
             "colorbar": {
              "outlinewidth": 0,
              "ticks": ""
             }
            },
            "type": "scatterpolar"
           }
          ],
          "scatterpolargl": [
           {
            "marker": {
             "colorbar": {
              "outlinewidth": 0,
              "ticks": ""
             }
            },
            "type": "scatterpolargl"
           }
          ],
          "scatterternary": [
           {
            "marker": {
             "colorbar": {
              "outlinewidth": 0,
              "ticks": ""
             }
            },
            "type": "scatterternary"
           }
          ],
          "surface": [
           {
            "colorbar": {
             "outlinewidth": 0,
             "ticks": ""
            },
            "colorscale": [
             [
              0,
              "#0d0887"
             ],
             [
              0.1111111111111111,
              "#46039f"
             ],
             [
              0.2222222222222222,
              "#7201a8"
             ],
             [
              0.3333333333333333,
              "#9c179e"
             ],
             [
              0.4444444444444444,
              "#bd3786"
             ],
             [
              0.5555555555555556,
              "#d8576b"
             ],
             [
              0.6666666666666666,
              "#ed7953"
             ],
             [
              0.7777777777777778,
              "#fb9f3a"
             ],
             [
              0.8888888888888888,
              "#fdca26"
             ],
             [
              1,
              "#f0f921"
             ]
            ],
            "type": "surface"
           }
          ],
          "table": [
           {
            "cells": {
             "fill": {
              "color": "#EBF0F8"
             },
             "line": {
              "color": "white"
             }
            },
            "header": {
             "fill": {
              "color": "#C8D4E3"
             },
             "line": {
              "color": "white"
             }
            },
            "type": "table"
           }
          ]
         },
         "layout": {
          "annotationdefaults": {
           "arrowcolor": "#2a3f5f",
           "arrowhead": 0,
           "arrowwidth": 1
          },
          "autotypenumbers": "strict",
          "coloraxis": {
           "colorbar": {
            "outlinewidth": 0,
            "ticks": ""
           }
          },
          "colorscale": {
           "diverging": [
            [
             0,
             "#8e0152"
            ],
            [
             0.1,
             "#c51b7d"
            ],
            [
             0.2,
             "#de77ae"
            ],
            [
             0.3,
             "#f1b6da"
            ],
            [
             0.4,
             "#fde0ef"
            ],
            [
             0.5,
             "#f7f7f7"
            ],
            [
             0.6,
             "#e6f5d0"
            ],
            [
             0.7,
             "#b8e186"
            ],
            [
             0.8,
             "#7fbc41"
            ],
            [
             0.9,
             "#4d9221"
            ],
            [
             1,
             "#276419"
            ]
           ],
           "sequential": [
            [
             0,
             "#0d0887"
            ],
            [
             0.1111111111111111,
             "#46039f"
            ],
            [
             0.2222222222222222,
             "#7201a8"
            ],
            [
             0.3333333333333333,
             "#9c179e"
            ],
            [
             0.4444444444444444,
             "#bd3786"
            ],
            [
             0.5555555555555556,
             "#d8576b"
            ],
            [
             0.6666666666666666,
             "#ed7953"
            ],
            [
             0.7777777777777778,
             "#fb9f3a"
            ],
            [
             0.8888888888888888,
             "#fdca26"
            ],
            [
             1,
             "#f0f921"
            ]
           ],
           "sequentialminus": [
            [
             0,
             "#0d0887"
            ],
            [
             0.1111111111111111,
             "#46039f"
            ],
            [
             0.2222222222222222,
             "#7201a8"
            ],
            [
             0.3333333333333333,
             "#9c179e"
            ],
            [
             0.4444444444444444,
             "#bd3786"
            ],
            [
             0.5555555555555556,
             "#d8576b"
            ],
            [
             0.6666666666666666,
             "#ed7953"
            ],
            [
             0.7777777777777778,
             "#fb9f3a"
            ],
            [
             0.8888888888888888,
             "#fdca26"
            ],
            [
             1,
             "#f0f921"
            ]
           ]
          },
          "colorway": [
           "#636efa",
           "#EF553B",
           "#00cc96",
           "#ab63fa",
           "#FFA15A",
           "#19d3f3",
           "#FF6692",
           "#B6E880",
           "#FF97FF",
           "#FECB52"
          ],
          "font": {
           "color": "#2a3f5f"
          },
          "geo": {
           "bgcolor": "white",
           "lakecolor": "white",
           "landcolor": "#E5ECF6",
           "showlakes": true,
           "showland": true,
           "subunitcolor": "white"
          },
          "hoverlabel": {
           "align": "left"
          },
          "hovermode": "closest",
          "mapbox": {
           "style": "light"
          },
          "paper_bgcolor": "white",
          "plot_bgcolor": "#E5ECF6",
          "polar": {
           "angularaxis": {
            "gridcolor": "white",
            "linecolor": "white",
            "ticks": ""
           },
           "bgcolor": "#E5ECF6",
           "radialaxis": {
            "gridcolor": "white",
            "linecolor": "white",
            "ticks": ""
           }
          },
          "scene": {
           "xaxis": {
            "backgroundcolor": "#E5ECF6",
            "gridcolor": "white",
            "gridwidth": 2,
            "linecolor": "white",
            "showbackground": true,
            "ticks": "",
            "zerolinecolor": "white"
           },
           "yaxis": {
            "backgroundcolor": "#E5ECF6",
            "gridcolor": "white",
            "gridwidth": 2,
            "linecolor": "white",
            "showbackground": true,
            "ticks": "",
            "zerolinecolor": "white"
           },
           "zaxis": {
            "backgroundcolor": "#E5ECF6",
            "gridcolor": "white",
            "gridwidth": 2,
            "linecolor": "white",
            "showbackground": true,
            "ticks": "",
            "zerolinecolor": "white"
           }
          },
          "shapedefaults": {
           "line": {
            "color": "#2a3f5f"
           }
          },
          "ternary": {
           "aaxis": {
            "gridcolor": "white",
            "linecolor": "white",
            "ticks": ""
           },
           "baxis": {
            "gridcolor": "white",
            "linecolor": "white",
            "ticks": ""
           },
           "bgcolor": "#E5ECF6",
           "caxis": {
            "gridcolor": "white",
            "linecolor": "white",
            "ticks": ""
           }
          },
          "title": {
           "x": 0.05
          },
          "xaxis": {
           "automargin": true,
           "gridcolor": "white",
           "linecolor": "white",
           "ticks": "",
           "title": {
            "standoff": 15
           },
           "zerolinecolor": "white",
           "zerolinewidth": 2
          },
          "yaxis": {
           "automargin": true,
           "gridcolor": "white",
           "linecolor": "white",
           "ticks": "",
           "title": {
            "standoff": 15
           },
           "zerolinecolor": "white",
           "zerolinewidth": 2
          }
         }
        }
       }
      },
      "text/html": [
       "<div>                            <div id=\"dafb1e34-ea2a-4d8c-8e0c-2d0fea6f2c9e\" class=\"plotly-graph-div\" style=\"height:525px; width:100%;\"></div>            <script type=\"text/javascript\">                require([\"plotly\"], function(Plotly) {                    window.PLOTLYENV=window.PLOTLYENV || {};                                    if (document.getElementById(\"dafb1e34-ea2a-4d8c-8e0c-2d0fea6f2c9e\")) {                    Plotly.newPlot(                        \"dafb1e34-ea2a-4d8c-8e0c-2d0fea6f2c9e\",                        [{\"branchvalues\": \"total\", \"customdata\": [[41.0], [622.0], [622.0], [13.0], [41.0], [41.0], [41.0], [958.0], [13.0], [41.0], [258.0], [258.0], [132.0], [132.0], [258.0], [41.0], [13.0], [295.0348870099069], [258.0], [258.0], [622.0], [13.0], [41.0], [41.0], [75.0901234766655], [132.0], [383.1636374395895], [249.64743989167076]], \"domain\": {\"x\": [0.0, 1.0], \"y\": [0.0, 1.0]}, \"hovertemplate\": \"labels=%{label}<br>Money=%{value}<br>parent=%{parent}<br>id=%{id}<br>daysToExpiry=%{color}<extra></extra>\", \"ids\": [\"Largest Open Contracts By Value/AAPL/Call\", \"Largest Open Contracts By Value/AMZN/Call\", \"Largest Open Contracts By Value/GOOGL/Call\", \"Largest Open Contracts By Value/META/Call\", \"Largest Open Contracts By Value/MSFT/Call\", \"Largest Open Contracts By Value/NVDA/Call\", \"Largest Open Contracts By Value/QQQ/Call\", \"Largest Open Contracts By Value/TSLA/Call\", \"Largest Open Contracts By Value/AMC/Put\", \"Largest Open Contracts By Value/AMZN/Put\", \"Largest Open Contracts By Value/BAC/Put\", \"Largest Open Contracts By Value/GOOG/Put\", \"Largest Open Contracts By Value/QQQ/Put\", \"Largest Open Contracts By Value/SPY/Put\", \"Largest Open Contracts By Value/TSLA/Put\", \"Largest Open Contracts By Value/AAPL\", \"Largest Open Contracts By Value/AMC\", \"Largest Open Contracts By Value/AMZN\", \"Largest Open Contracts By Value/BAC\", \"Largest Open Contracts By Value/GOOG\", \"Largest Open Contracts By Value/GOOGL\", \"Largest Open Contracts By Value/META\", \"Largest Open Contracts By Value/MSFT\", \"Largest Open Contracts By Value/NVDA\", \"Largest Open Contracts By Value/QQQ\", \"Largest Open Contracts By Value/SPY\", \"Largest Open Contracts By Value/TSLA\", \"Largest Open Contracts By Value\"], \"labels\": [\"Call\", \"Call\", \"Call\", \"Call\", \"Call\", \"Call\", \"Call\", \"Call\", \"Put\", \"Put\", \"Put\", \"Put\", \"Put\", \"Put\", \"Put\", \"AAPL\", \"AMC\", \"AMZN\", \"BAC\", \"GOOG\", \"GOOGL\", \"META\", \"MSFT\", \"NVDA\", \"QQQ\", \"SPY\", \"TSLA\", \"Largest Open Contracts By Value\"], \"marker\": {\"coloraxis\": \"coloraxis\", \"colors\": [41.0, 622.0, 622.0, 13.0, 41.0, 41.0, 41.0, 958.0, 13.0, 41.0, 258.0, 258.0, 132.0, 132.0, 258.0, 41.0, 13.0, 295.0348870099069, 258.0, 258.0, 622.0, 13.0, 41.0, 41.0, 75.0901234766655, 132.0, 383.1636374395895, 249.64743989167076]}, \"name\": \"\", \"parents\": [\"Largest Open Contracts By Value/AAPL\", \"Largest Open Contracts By Value/AMZN\", \"Largest Open Contracts By Value/GOOGL\", \"Largest Open Contracts By Value/META\", \"Largest Open Contracts By Value/MSFT\", \"Largest Open Contracts By Value/NVDA\", \"Largest Open Contracts By Value/QQQ\", \"Largest Open Contracts By Value/TSLA\", \"Largest Open Contracts By Value/AMC\", \"Largest Open Contracts By Value/AMZN\", \"Largest Open Contracts By Value/BAC\", \"Largest Open Contracts By Value/GOOG\", \"Largest Open Contracts By Value/QQQ\", \"Largest Open Contracts By Value/SPY\", \"Largest Open Contracts By Value/TSLA\", \"Largest Open Contracts By Value\", \"Largest Open Contracts By Value\", \"Largest Open Contracts By Value\", \"Largest Open Contracts By Value\", \"Largest Open Contracts By Value\", \"Largest Open Contracts By Value\", \"Largest Open Contracts By Value\", \"Largest Open Contracts By Value\", \"Largest Open Contracts By Value\", \"Largest Open Contracts By Value\", \"Largest Open Contracts By Value\", \"Largest Open Contracts By Value\", \"\"], \"type\": \"treemap\", \"values\": [255065400.0, 116268600.0, 62993700.0, 268483600.0, 161550000.0, 101860500.0, 245895000.0, 318044175.0, 79145792.0, 149647855.0, 66779715.0, 210054311.99999997, 147295890.0, 138095352.0, 1460674685.0000002, 255065400.0, 79145792.0, 265916455.0, 66779715.0, 210054311.99999997, 62993700.0, 268483600.0, 161550000.0, 101860500.0, 393190890.0, 138095352.0, 1778718860.0000002, 3781854576.0]}],                        {\"coloraxis\": {\"cmax\": 900, \"cmin\": 0, \"colorbar\": {\"title\": {\"text\": \"daysToExpiry\"}}, \"colorscale\": [[0.0, \"rgb(234, 252, 253)\"], [0.09090909090909091, \"rgb(192, 229, 232)\"], [0.18181818181818182, \"rgb(149, 207, 216)\"], [0.2727272727272727, \"rgb(114, 184, 205)\"], [0.36363636363636365, \"rgb(89, 159, 196)\"], [0.45454545454545453, \"rgb(72, 134, 187)\"], [0.5454545454545454, \"rgb(62, 109, 178)\"], [0.6363636363636364, \"rgb(62, 83, 160)\"], [0.7272727272727273, \"rgb(58, 60, 125)\"], [0.8181818181818182, \"rgb(44, 42, 87)\"], [0.9090909090909091, \"rgb(25, 25, 51)\"], [1.0, \"rgb(3, 5, 18)\"]]}, \"legend\": {\"tracegroupgap\": 0}, \"margin\": {\"t\": 60}, \"template\": {\"data\": {\"bar\": [{\"error_x\": {\"color\": \"#2a3f5f\"}, \"error_y\": {\"color\": \"#2a3f5f\"}, \"marker\": {\"line\": {\"color\": \"#E5ECF6\", \"width\": 0.5}}, \"type\": \"bar\"}], \"barpolar\": [{\"marker\": {\"line\": {\"color\": \"#E5ECF6\", \"width\": 0.5}}, \"type\": \"barpolar\"}], \"carpet\": [{\"aaxis\": {\"endlinecolor\": \"#2a3f5f\", \"gridcolor\": \"white\", \"linecolor\": \"white\", \"minorgridcolor\": \"white\", \"startlinecolor\": \"#2a3f5f\"}, \"baxis\": {\"endlinecolor\": \"#2a3f5f\", \"gridcolor\": \"white\", \"linecolor\": \"white\", \"minorgridcolor\": \"white\", \"startlinecolor\": \"#2a3f5f\"}, \"type\": \"carpet\"}], \"choropleth\": [{\"colorbar\": {\"outlinewidth\": 0, \"ticks\": \"\"}, \"type\": \"choropleth\"}], \"contour\": [{\"colorbar\": {\"outlinewidth\": 0, \"ticks\": \"\"}, \"colorscale\": [[0.0, \"#0d0887\"], [0.1111111111111111, \"#46039f\"], [0.2222222222222222, \"#7201a8\"], [0.3333333333333333, \"#9c179e\"], [0.4444444444444444, \"#bd3786\"], [0.5555555555555556, \"#d8576b\"], [0.6666666666666666, \"#ed7953\"], [0.7777777777777778, \"#fb9f3a\"], [0.8888888888888888, \"#fdca26\"], [1.0, \"#f0f921\"]], \"type\": \"contour\"}], \"contourcarpet\": [{\"colorbar\": {\"outlinewidth\": 0, \"ticks\": \"\"}, \"type\": \"contourcarpet\"}], \"heatmap\": [{\"colorbar\": {\"outlinewidth\": 0, \"ticks\": \"\"}, \"colorscale\": [[0.0, \"#0d0887\"], [0.1111111111111111, \"#46039f\"], [0.2222222222222222, \"#7201a8\"], [0.3333333333333333, \"#9c179e\"], [0.4444444444444444, \"#bd3786\"], [0.5555555555555556, \"#d8576b\"], [0.6666666666666666, \"#ed7953\"], [0.7777777777777778, \"#fb9f3a\"], [0.8888888888888888, \"#fdca26\"], [1.0, \"#f0f921\"]], \"type\": \"heatmap\"}], \"heatmapgl\": [{\"colorbar\": {\"outlinewidth\": 0, \"ticks\": \"\"}, \"colorscale\": [[0.0, \"#0d0887\"], [0.1111111111111111, \"#46039f\"], [0.2222222222222222, \"#7201a8\"], [0.3333333333333333, \"#9c179e\"], [0.4444444444444444, \"#bd3786\"], [0.5555555555555556, \"#d8576b\"], [0.6666666666666666, \"#ed7953\"], [0.7777777777777778, \"#fb9f3a\"], [0.8888888888888888, \"#fdca26\"], [1.0, \"#f0f921\"]], \"type\": \"heatmapgl\"}], \"histogram\": [{\"marker\": {\"colorbar\": {\"outlinewidth\": 0, \"ticks\": \"\"}}, \"type\": \"histogram\"}], \"histogram2d\": [{\"colorbar\": {\"outlinewidth\": 0, \"ticks\": \"\"}, \"colorscale\": [[0.0, \"#0d0887\"], [0.1111111111111111, \"#46039f\"], [0.2222222222222222, \"#7201a8\"], [0.3333333333333333, \"#9c179e\"], [0.4444444444444444, \"#bd3786\"], [0.5555555555555556, \"#d8576b\"], [0.6666666666666666, \"#ed7953\"], [0.7777777777777778, \"#fb9f3a\"], [0.8888888888888888, \"#fdca26\"], [1.0, \"#f0f921\"]], \"type\": \"histogram2d\"}], \"histogram2dcontour\": [{\"colorbar\": {\"outlinewidth\": 0, \"ticks\": \"\"}, \"colorscale\": [[0.0, \"#0d0887\"], [0.1111111111111111, \"#46039f\"], [0.2222222222222222, \"#7201a8\"], [0.3333333333333333, \"#9c179e\"], [0.4444444444444444, \"#bd3786\"], [0.5555555555555556, \"#d8576b\"], [0.6666666666666666, \"#ed7953\"], [0.7777777777777778, \"#fb9f3a\"], [0.8888888888888888, \"#fdca26\"], [1.0, \"#f0f921\"]], \"type\": \"histogram2dcontour\"}], \"mesh3d\": [{\"colorbar\": {\"outlinewidth\": 0, \"ticks\": \"\"}, \"type\": \"mesh3d\"}], \"parcoords\": [{\"line\": {\"colorbar\": {\"outlinewidth\": 0, \"ticks\": \"\"}}, \"type\": \"parcoords\"}], \"pie\": [{\"automargin\": true, \"type\": \"pie\"}], \"scatter\": [{\"marker\": {\"colorbar\": {\"outlinewidth\": 0, \"ticks\": \"\"}}, \"type\": \"scatter\"}], \"scatter3d\": [{\"line\": {\"colorbar\": {\"outlinewidth\": 0, \"ticks\": \"\"}}, \"marker\": {\"colorbar\": {\"outlinewidth\": 0, \"ticks\": \"\"}}, \"type\": \"scatter3d\"}], \"scattercarpet\": [{\"marker\": {\"colorbar\": {\"outlinewidth\": 0, \"ticks\": \"\"}}, \"type\": \"scattercarpet\"}], \"scattergeo\": [{\"marker\": {\"colorbar\": {\"outlinewidth\": 0, \"ticks\": \"\"}}, \"type\": \"scattergeo\"}], \"scattergl\": [{\"marker\": {\"colorbar\": {\"outlinewidth\": 0, \"ticks\": \"\"}}, \"type\": \"scattergl\"}], \"scattermapbox\": [{\"marker\": {\"colorbar\": {\"outlinewidth\": 0, \"ticks\": \"\"}}, \"type\": \"scattermapbox\"}], \"scatterpolar\": [{\"marker\": {\"colorbar\": {\"outlinewidth\": 0, \"ticks\": \"\"}}, \"type\": \"scatterpolar\"}], \"scatterpolargl\": [{\"marker\": {\"colorbar\": {\"outlinewidth\": 0, \"ticks\": \"\"}}, \"type\": \"scatterpolargl\"}], \"scatterternary\": [{\"marker\": {\"colorbar\": {\"outlinewidth\": 0, \"ticks\": \"\"}}, \"type\": \"scatterternary\"}], \"surface\": [{\"colorbar\": {\"outlinewidth\": 0, \"ticks\": \"\"}, \"colorscale\": [[0.0, \"#0d0887\"], [0.1111111111111111, \"#46039f\"], [0.2222222222222222, \"#7201a8\"], [0.3333333333333333, \"#9c179e\"], [0.4444444444444444, \"#bd3786\"], [0.5555555555555556, \"#d8576b\"], [0.6666666666666666, \"#ed7953\"], [0.7777777777777778, \"#fb9f3a\"], [0.8888888888888888, \"#fdca26\"], [1.0, \"#f0f921\"]], \"type\": \"surface\"}], \"table\": [{\"cells\": {\"fill\": {\"color\": \"#EBF0F8\"}, \"line\": {\"color\": \"white\"}}, \"header\": {\"fill\": {\"color\": \"#C8D4E3\"}, \"line\": {\"color\": \"white\"}}, \"type\": \"table\"}]}, \"layout\": {\"annotationdefaults\": {\"arrowcolor\": \"#2a3f5f\", \"arrowhead\": 0, \"arrowwidth\": 1}, \"autotypenumbers\": \"strict\", \"coloraxis\": {\"colorbar\": {\"outlinewidth\": 0, \"ticks\": \"\"}}, \"colorscale\": {\"diverging\": [[0, \"#8e0152\"], [0.1, \"#c51b7d\"], [0.2, \"#de77ae\"], [0.3, \"#f1b6da\"], [0.4, \"#fde0ef\"], [0.5, \"#f7f7f7\"], [0.6, \"#e6f5d0\"], [0.7, \"#b8e186\"], [0.8, \"#7fbc41\"], [0.9, \"#4d9221\"], [1, \"#276419\"]], \"sequential\": [[0.0, \"#0d0887\"], [0.1111111111111111, \"#46039f\"], [0.2222222222222222, \"#7201a8\"], [0.3333333333333333, \"#9c179e\"], [0.4444444444444444, \"#bd3786\"], [0.5555555555555556, \"#d8576b\"], [0.6666666666666666, \"#ed7953\"], [0.7777777777777778, \"#fb9f3a\"], [0.8888888888888888, \"#fdca26\"], [1.0, \"#f0f921\"]], \"sequentialminus\": [[0.0, \"#0d0887\"], [0.1111111111111111, \"#46039f\"], [0.2222222222222222, \"#7201a8\"], [0.3333333333333333, \"#9c179e\"], [0.4444444444444444, \"#bd3786\"], [0.5555555555555556, \"#d8576b\"], [0.6666666666666666, \"#ed7953\"], [0.7777777777777778, \"#fb9f3a\"], [0.8888888888888888, \"#fdca26\"], [1.0, \"#f0f921\"]]}, \"colorway\": [\"#636efa\", \"#EF553B\", \"#00cc96\", \"#ab63fa\", \"#FFA15A\", \"#19d3f3\", \"#FF6692\", \"#B6E880\", \"#FF97FF\", \"#FECB52\"], \"font\": {\"color\": \"#2a3f5f\"}, \"geo\": {\"bgcolor\": \"white\", \"lakecolor\": \"white\", \"landcolor\": \"#E5ECF6\", \"showlakes\": true, \"showland\": true, \"subunitcolor\": \"white\"}, \"hoverlabel\": {\"align\": \"left\"}, \"hovermode\": \"closest\", \"mapbox\": {\"style\": \"light\"}, \"paper_bgcolor\": \"white\", \"plot_bgcolor\": \"#E5ECF6\", \"polar\": {\"angularaxis\": {\"gridcolor\": \"white\", \"linecolor\": \"white\", \"ticks\": \"\"}, \"bgcolor\": \"#E5ECF6\", \"radialaxis\": {\"gridcolor\": \"white\", \"linecolor\": \"white\", \"ticks\": \"\"}}, \"scene\": {\"xaxis\": {\"backgroundcolor\": \"#E5ECF6\", \"gridcolor\": \"white\", \"gridwidth\": 2, \"linecolor\": \"white\", \"showbackground\": true, \"ticks\": \"\", \"zerolinecolor\": \"white\"}, \"yaxis\": {\"backgroundcolor\": \"#E5ECF6\", \"gridcolor\": \"white\", \"gridwidth\": 2, \"linecolor\": \"white\", \"showbackground\": true, \"ticks\": \"\", \"zerolinecolor\": \"white\"}, \"zaxis\": {\"backgroundcolor\": \"#E5ECF6\", \"gridcolor\": \"white\", \"gridwidth\": 2, \"linecolor\": \"white\", \"showbackground\": true, \"ticks\": \"\", \"zerolinecolor\": \"white\"}}, \"shapedefaults\": {\"line\": {\"color\": \"#2a3f5f\"}}, \"ternary\": {\"aaxis\": {\"gridcolor\": \"white\", \"linecolor\": \"white\", \"ticks\": \"\"}, \"baxis\": {\"gridcolor\": \"white\", \"linecolor\": \"white\", \"ticks\": \"\"}, \"bgcolor\": \"#E5ECF6\", \"caxis\": {\"gridcolor\": \"white\", \"linecolor\": \"white\", \"ticks\": \"\"}}, \"title\": {\"x\": 0.05}, \"xaxis\": {\"automargin\": true, \"gridcolor\": \"white\", \"linecolor\": \"white\", \"ticks\": \"\", \"title\": {\"standoff\": 15}, \"zerolinecolor\": \"white\", \"zerolinewidth\": 2}, \"yaxis\": {\"automargin\": true, \"gridcolor\": \"white\", \"linecolor\": \"white\", \"ticks\": \"\", \"title\": {\"standoff\": 15}, \"zerolinecolor\": \"white\", \"zerolinewidth\": 2}}}},                        {\"responsive\": true}                    ).then(function(){\n",
       "                            \n",
       "var gd = document.getElementById('dafb1e34-ea2a-4d8c-8e0c-2d0fea6f2c9e');\n",
       "var x = new MutationObserver(function (mutations, observer) {{\n",
       "        var display = window.getComputedStyle(gd).display;\n",
       "        if (!display || display === 'none') {{\n",
       "            console.log([gd, 'removed!']);\n",
       "            Plotly.purge(gd);\n",
       "            observer.disconnect();\n",
       "        }}\n",
       "}});\n",
       "\n",
       "// Listen for the removal of the full notebook cells\n",
       "var notebookContainer = gd.closest('#notebook-container');\n",
       "if (notebookContainer) {{\n",
       "    x.observe(notebookContainer, {childList: true});\n",
       "}}\n",
       "\n",
       "// Listen for the clearing of the current output cell\n",
       "var outputEl = gd.closest('.output');\n",
       "if (outputEl) {{\n",
       "    x.observe(outputEl, {childList: true});\n",
       "}}\n",
       "\n",
       "                        })                };                });            </script>        </div>"
      ]
     },
     "metadata": {},
     "output_type": "display_data"
    }
   ],
   "source": [
    "pltMoney = maxMoney[maxMoney['Money']>10^7].sort_values(by='Money').tail(15)\n",
    "import plotly.express as px\n",
    "import numpy as np\n",
    "pltMoney['today'] = dte.datetime.now(dte.timezone.utc)\n",
    "pltMoney['daysToExpiry'] = (pd.to_datetime(pltMoney['Expiry']).dt.tz_convert('UTC') - pltMoney['today'].dt.tz_convert('UTC')).dt.days\n",
    "\n",
    "fig = px.treemap(pltMoney, path=[px.Constant(\"Largest Open Contracts By Value\"), 'Ticker', 'Contract'], \n",
    "                 values='Money', color='daysToExpiry',\n",
    "                 color_continuous_scale='ice_r',range_color=[0,900])\n",
    "fig.show()\n"
   ]
  },
  {
   "cell_type": "code",
   "execution_count": 52,
   "metadata": {},
   "outputs": [
    {
     "data": {
      "text/plain": [
       "datetime.datetime(2023, 4, 28, 14, 0, 33, 29000)"
      ]
     },
     "execution_count": 52,
     "metadata": {},
     "output_type": "execute_result"
    }
   ],
   "source": [
    "# (pltMoney['Strike'] - pltMoney['Stock Price at Query'])/pltMoney['Stock Price at Query']\n",
    "# pd.to_datetime(pltMoney['Expiry']).dt.tz_convert('UTC') - pltMoney['today'].dt.tz_convert('UTC')\n",
    "# pltMoney['today']\n",
    "# pd.to_datetime(pltMoney['Expiry'])\n",
    "\n",
    "# pd.to_datetime(pltMoney['Expiry']).dt.tz_convert('UTC') - dte.datetime.now(dte.timezone.utc)\n",
    "dte.datetime.fromisoformat('2023-04-28 14:00:33.029000')"
   ]
  }
 ],
 "metadata": {
  "kernelspec": {
   "display_name": "Python 3",
   "language": "python",
   "name": "python3"
  },
  "language_info": {
   "codemirror_mode": {
    "name": "ipython",
    "version": 3
   },
   "file_extension": ".py",
   "mimetype": "text/x-python",
   "name": "python",
   "nbconvert_exporter": "python",
   "pygments_lexer": "ipython3",
   "version": "3.8.5"
  }
 },
 "nbformat": 4,
 "nbformat_minor": 4
}
